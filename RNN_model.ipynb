{
 "cells": [
  {
   "cell_type": "code",
   "execution_count": 1,
   "metadata": {},
   "outputs": [],
   "source": [
    "import openpyxl\n",
    "import tensorflow as tf\n",
    "import numpy as np\n",
    "import os\n",
    "import datetime\n",
    "import matplotlib.pyplot as plt"
   ]
  },
  {
   "cell_type": "code",
   "execution_count": 2,
   "metadata": {},
   "outputs": [],
   "source": [
    "tf.set_random_seed(777)"
   ]
  },
  {
   "cell_type": "code",
   "execution_count": 3,
   "metadata": {},
   "outputs": [],
   "source": [
    "def min_max_scaling(x):\n",
    "    numerator = x - np.min(x, 0)\n",
    "    denominator = np.max(x, 0) - np.min(x, 0)\n",
    "    return np.asarray(numerator / (denominator + 1e-7))\n",
    "    \n",
    "def reverse_min_max_scaling(data, x):\n",
    "    max=np.max(data,0)\n",
    "    min=np.min(data,0)\n",
    "    return (x*(max[5]-min[5]+1e-7))+min[5]"
   ]
  },
  {
   "cell_type": "code",
   "execution_count": 4,
   "metadata": {},
   "outputs": [],
   "source": [
    "input_data_column_cnt=6\n",
    "output_data_column_cnt=1\n",
    "\n",
    "seq_length=7\n",
    "rnn_cell_hidden_dim=5\n",
    "forget_bias=1.0\n",
    "num_stacked_layers=1\n",
    "keep_prob=1.0\n",
    "final_test=3862\n",
    "\n",
    "epoch_num=1800\n",
    "learning_rate=0.01"
   ]
  },
  {
   "cell_type": "code",
   "execution_count": 5,
   "metadata": {},
   "outputs": [
    {
     "name": "stdout",
     "output_type": "stream",
     "text": [
      "88681\n",
      "[19.6, 0, 4.7, 230, 12, 52] [18.8, 0, 4.8, 270, 22, 58]\n"
     ]
    }
   ],
   "source": [
    "#엑셀에서 데이터 가져오기\n",
    "wb=openpyxl.load_workbook('timedata.xlsx')\n",
    "ws=wb.active\n",
    "data=[]\n",
    "for r in ws.rows:\n",
    "    data.append([r[1].value,r[2].value,r[3].value,r[4].value,r[5].value,r[6].value])\n",
    "print(len(data))\n",
    "print(data[0],data[1])"
   ]
  },
  {
   "cell_type": "code",
   "execution_count": 6,
   "metadata": {},
   "outputs": [
    {
     "name": "stdout",
     "output_type": "stream",
     "text": [
      "norm_data shape:  (88681, 6)\n",
      "data[0]:  [19.6, 0, 4.7, 230, 12, 52]\n",
      "norm_data[0]:  [0.69117647 0.         0.4122807  0.63888889 0.12       0.04205214]\n",
      "====================================================================================================\n",
      "x shape:  (88681, 6)\n",
      "x[0]:  [0.69117647 0.         0.4122807  0.63888889 0.12       0.04205214]\n",
      "====================================================================================================\n",
      "y shape:  (88681, 1)\n",
      "y[0]:  [0.04205214]\n"
     ]
    }
   ],
   "source": [
    "norm_data = min_max_scaling(data)\n",
    "\n",
    "print(\"norm_data shape: \",norm_data.shape)\n",
    "print(\"data[0]: \",data[0])\n",
    "print(\"norm_data[0]: \",norm_data[0])\n",
    "print(\"=\"*100)\n",
    "\n",
    "x=norm_data\n",
    "y=norm_data[:,[-1]]\n",
    "\n",
    "print(\"x shape: \",x.shape)\n",
    "print(\"x[0]: \",x[0])\n",
    "print(\"=\"*100)\n",
    "print(\"y shape: \",y.shape)\n",
    "print(\"y[0]: \",y[0])"
   ]
  },
  {
   "cell_type": "code",
   "execution_count": 7,
   "metadata": {},
   "outputs": [
    {
     "name": "stdout",
     "output_type": "stream",
     "text": [
      "[[0.69117647 0.         0.4122807  0.63888889 0.12       0.04205214]\n",
      " [0.67647059 0.         0.42105263 0.75       0.22       0.0470984 ]\n",
      " [0.67279412 0.         0.37719298 0.75       0.26       0.06139613]\n",
      " [0.6617647  0.         0.38596491 0.63888889 0.31       0.06812447]\n",
      " [0.63235294 0.         0.30701754 0.75       0.33       0.07317073]\n",
      " [0.61029412 0.         0.35087719 0.75       0.36       0.06307822]\n",
      " [0.59007353 0.         0.20175438 0.80555556 0.38       0.07148865]] -> [0.06980656]\n"
     ]
    }
   ],
   "source": [
    "dataX=[]\n",
    "dataY=[]\n",
    "\n",
    "for i in range(0, len(y)-seq_length-final_test):\n",
    "    _x=x[i:i+seq_length]\n",
    "    _y=y[i+seq_length]\n",
    "    if i is 0:\n",
    "        print(_x,\"->\",_y)\n",
    "    dataX.append(_x)\n",
    "    dataY.append(_y)"
   ]
  },
  {
   "cell_type": "code",
   "execution_count": 8,
   "metadata": {},
   "outputs": [
    {
     "name": "stdout",
     "output_type": "stream",
     "text": [
      "trainX[0]:  [[0.69117647 0.         0.4122807  0.63888889 0.12       0.04205214]\n",
      " [0.67647059 0.         0.42105263 0.75       0.22       0.0470984 ]\n",
      " [0.67279412 0.         0.37719298 0.75       0.26       0.06139613]\n",
      " [0.6617647  0.         0.38596491 0.63888889 0.31       0.06812447]\n",
      " [0.63235294 0.         0.30701754 0.75       0.33       0.07317073]\n",
      " [0.61029412 0.         0.35087719 0.75       0.36       0.06307822]\n",
      " [0.59007353 0.         0.20175438 0.80555556 0.38       0.07148865]]\n",
      "trainY[0]:  [0.06980656]\n",
      "trainX size:  59368\n"
     ]
    }
   ],
   "source": [
    "train_size=int(len(dataY)*0.7)\n",
    "test_size=len(dataY)-train_size\n",
    "\n",
    "trainX=np.array(dataX[0:train_size])\n",
    "trainY=np.array(dataY[0:train_size])\n",
    "\n",
    "testX=np.array(dataX[train_size:len(dataX)])\n",
    "testY=np.array(dataY[train_size:len(dataY)])\n",
    "\n",
    "print(\"trainX[0]: \",trainX[0])\n",
    "print(\"trainY[0]: \",trainY[0])\n",
    "\n",
    "print(\"trainX size: \",len(trainX))"
   ]
  },
  {
   "cell_type": "code",
   "execution_count": 9,
   "metadata": {},
   "outputs": [
    {
     "name": "stdout",
     "output_type": "stream",
     "text": [
      "X:  Tensor(\"Placeholder:0\", shape=(?, 7, 6), dtype=float32)\n",
      "Y:  Tensor(\"Placeholder_1:0\", shape=(?, 1), dtype=float32)\n",
      "targets:  Tensor(\"Placeholder_2:0\", shape=(?, 1), dtype=float32)\n",
      "predictions:  Tensor(\"Placeholder_3:0\", shape=(?, 1), dtype=float32)\n"
     ]
    }
   ],
   "source": [
    "X=tf.placeholder(tf.float32,[None,seq_length,input_data_column_cnt])\n",
    "print(\"X: \",X)\n",
    "Y=tf.placeholder(tf.float32,[None,1])\n",
    "print(\"Y: \",Y)\n",
    "\n",
    "targets=tf.placeholder(tf.float32,[None,1])\n",
    "print(\"targets: \",targets)\n",
    "predictions=tf.placeholder(tf.float32,[None,1])\n",
    "print(\"predictions: \",predictions)"
   ]
  },
  {
   "cell_type": "code",
   "execution_count": 10,
   "metadata": {},
   "outputs": [
    {
     "name": "stdout",
     "output_type": "stream",
     "text": [
      "WARNING:tensorflow:\n",
      "The TensorFlow contrib module will not be included in TensorFlow 2.0.\n",
      "For more information, please see:\n",
      "  * https://github.com/tensorflow/community/blob/master/rfcs/20180907-contrib-sunset.md\n",
      "  * https://github.com/tensorflow/addons\n",
      "  * https://github.com/tensorflow/io (for I/O related ops)\n",
      "If you depend on functionality not listed there, please file an issue.\n",
      "\n",
      "WARNING:tensorflow:From <ipython-input-10-7d170912a833>:3: BasicLSTMCell.__init__ (from tensorflow.python.ops.rnn_cell_impl) is deprecated and will be removed in a future version.\n",
      "Instructions for updating:\n",
      "This class is equivalent as tf.keras.layers.LSTMCell, and will be replaced by that in Tensorflow 2.0.\n",
      "WARNING:tensorflow:From <ipython-input-10-7d170912a833>:11: dynamic_rnn (from tensorflow.python.ops.rnn) is deprecated and will be removed in a future version.\n",
      "Instructions for updating:\n",
      "Please use `keras.layers.RNN(cell)`, which is equivalent to this API\n",
      "WARNING:tensorflow:From C:\\ProgramData\\Anaconda3\\lib\\site-packages\\tensorflow\\python\\ops\\init_ops.py:1251: calling VarianceScaling.__init__ (from tensorflow.python.ops.init_ops) with dtype is deprecated and will be removed in a future version.\n",
      "Instructions for updating:\n",
      "Call initializer instance with the dtype argument instead of passing it to the constructor\n",
      "WARNING:tensorflow:From C:\\ProgramData\\Anaconda3\\lib\\site-packages\\tensorflow\\python\\ops\\rnn_cell_impl.py:738: calling Zeros.__init__ (from tensorflow.python.ops.init_ops) with dtype is deprecated and will be removed in a future version.\n",
      "Instructions for updating:\n",
      "Call initializer instance with the dtype argument instead of passing it to the constructor\n",
      "WARNING:tensorflow:Entity <bound method BasicLSTMCell.call of <tensorflow.python.ops.rnn_cell_impl.BasicLSTMCell object at 0x00000171DFEE4708>> could not be transformed and will be executed as-is. Please report this to the AutgoGraph team. When filing the bug, set the verbosity to 10 (on Linux, `export AUTOGRAPH_VERBOSITY=10`) and attach the full output. Cause: converting <bound method BasicLSTMCell.call of <tensorflow.python.ops.rnn_cell_impl.BasicLSTMCell object at 0x00000171DFEE4708>>: AssertionError: Bad argument number for Name: 3, expecting 4\n",
      "WARNING: Entity <bound method BasicLSTMCell.call of <tensorflow.python.ops.rnn_cell_impl.BasicLSTMCell object at 0x00000171DFEE4708>> could not be transformed and will be executed as-is. Please report this to the AutgoGraph team. When filing the bug, set the verbosity to 10 (on Linux, `export AUTOGRAPH_VERBOSITY=10`) and attach the full output. Cause: converting <bound method BasicLSTMCell.call of <tensorflow.python.ops.rnn_cell_impl.BasicLSTMCell object at 0x00000171DFEE4708>>: AssertionError: Bad argument number for Name: 3, expecting 4\n",
      "hypothesis:  Tensor(\"rnn/transpose_1:0\", shape=(?, 7, 5), dtype=float32)\n",
      "WARNING:tensorflow:Entity <bound method Dense.call of <tensorflow.python.layers.core.Dense object at 0x00000171E4A6A588>> could not be transformed and will be executed as-is. Please report this to the AutgoGraph team. When filing the bug, set the verbosity to 10 (on Linux, `export AUTOGRAPH_VERBOSITY=10`) and attach the full output. Cause: converting <bound method Dense.call of <tensorflow.python.layers.core.Dense object at 0x00000171E4A6A588>>: AssertionError: Bad argument number for Name: 3, expecting 4\n",
      "WARNING: Entity <bound method Dense.call of <tensorflow.python.layers.core.Dense object at 0x00000171E4A6A588>> could not be transformed and will be executed as-is. Please report this to the AutgoGraph team. When filing the bug, set the verbosity to 10 (on Linux, `export AUTOGRAPH_VERBOSITY=10`) and attach the full output. Cause: converting <bound method Dense.call of <tensorflow.python.layers.core.Dense object at 0x00000171E4A6A588>>: AssertionError: Bad argument number for Name: 3, expecting 4\n"
     ]
    }
   ],
   "source": [
    "def lstm_cell():\n",
    "    cell = tf.contrib.rnn.BasicLSTMCell(num_units=rnn_cell_hidden_dim, \n",
    "                                        forget_bias=forget_bias, state_is_tuple=True, activation=tf.nn.softsign)\n",
    "    if keep_prob < 1.0:\n",
    "        cell = tf.contrib.rnn.DropoutWrapper(cell, output_keep_prob=keep_prob)\n",
    "    return cell\n",
    " \n",
    "stackedRNNs = [lstm_cell() for _ in range(num_stacked_layers)]\n",
    "multi_cells = tf.contrib.rnn.MultiRNNCell(stackedRNNs, state_is_tuple=True) if num_stacked_layers > 1 else lstm_cell()\n",
    " \n",
    "hypothesis, _states = tf.nn.dynamic_rnn(multi_cells, X, dtype=tf.float32)\n",
    "print(\"hypothesis: \", hypothesis)\n",
    "\n",
    "hypothesis=tf.contrib.layers.fully_connected(hypothesis[:,-1],output_data_column_cnt, activation_fn=tf.identity)"
   ]
  },
  {
   "cell_type": "code",
   "execution_count": 11,
   "metadata": {},
   "outputs": [],
   "source": [
    "loss=tf.reduce_sum(tf.square(hypothesis - Y))\n",
    "    \n",
    "optimizer=tf.train.AdamOptimizer(learning_rate)\n",
    "    \n",
    "train=optimizer.minimize(loss)\n",
    "    \n",
    "rmse=tf.sqrt(tf.reduce_mean(tf.squared_difference(targets,predictions)))"
   ]
  },
  {
   "cell_type": "code",
   "execution_count": 12,
   "metadata": {},
   "outputs": [
    {
     "name": "stdout",
     "output_type": "stream",
     "text": [
      "학습을 시작합니다...\n",
      "epoch: 100, train_error(A): 0.019583547487854958, test_error(B): 0.020103350281715393, B-A: 0.0005198027938604355\n",
      "epoch: 200, train_error(A): 0.01405928935855627, test_error(B): 0.013038544915616512, B-A: -0.0010207444429397583\n",
      "epoch: 300, train_error(A): 0.012609758414328098, test_error(B): 0.011138862930238247, B-A: -0.0014708954840898514\n",
      "epoch: 400, train_error(A): 0.011489839293062687, test_error(B): 0.009897232055664062, B-A: -0.0015926072373986244\n",
      "epoch: 500, train_error(A): 0.01066692266613245, test_error(B): 0.00905677955597639, B-A: -0.0016101431101560593\n",
      "epoch: 600, train_error(A): 0.010139402002096176, test_error(B): 0.008528366684913635, B-A: -0.001611035317182541\n",
      "epoch: 700, train_error(A): 0.00984856579452753, test_error(B): 0.008227906189858913, B-A: -0.0016206596046686172\n",
      "epoch: 800, train_error(A): 0.009697778150439262, test_error(B): 0.0080665098503232, B-A: -0.0016312683001160622\n",
      "epoch: 900, train_error(A): 0.009604288265109062, test_error(B): 0.007966416887938976, B-A: -0.001637871377170086\n",
      "epoch: 1000, train_error(A): 0.0095317792147398, test_error(B): 0.007893247529864311, B-A: -0.0016385316848754883\n",
      "epoch: 1100, train_error(A): 0.0094724977388978, test_error(B): 0.007839975878596306, B-A: -0.0016325218603014946\n",
      "epoch: 1200, train_error(A): 0.009422820061445236, test_error(B): 0.007801774423569441, B-A: -0.0016210456378757954\n",
      "epoch: 1300, train_error(A): 0.009380031377077103, test_error(B): 0.007774856872856617, B-A: -0.0016051745042204857\n",
      "epoch: 1400, train_error(A): 0.009341830387711525, test_error(B): 0.007756272796541452, B-A: -0.0015855575911700726\n",
      "epoch: 1500, train_error(A): 0.0093065882101655, test_error(B): 0.0077438694424927235, B-A: -0.0015627187676727772\n",
      "epoch: 1600, train_error(A): 0.009294429793953896, test_error(B): 0.007801026571542025, B-A: -0.001493403222411871\n",
      "epoch: 1700, train_error(A): 0.009243099950253963, test_error(B): 0.007733312901109457, B-A: -0.0015097870491445065\n",
      "epoch: 1800, train_error(A): 0.00921295303851366, test_error(B): 0.007734118960797787, B-A: -0.0014788340777158737\n",
      "학습이 끝났습니다...\n",
      "elapsed_time: 0:06:30.349291\n",
      "elapsed_time per epoch: 0:00:00.216861\n"
     ]
    }
   ],
   "source": [
    "train_error_summary = [] # train data 오류율\n",
    "test_error_summary = []  # validation data 오류율\n",
    "test_predict = ''        # validation data 결과 기록\n",
    " \n",
    "sess = tf.Session()\n",
    "sess.run(tf.global_variables_initializer())\n",
    " \n",
    "# 학습한다\n",
    "start_time = datetime.datetime.now()\n",
    "print('학습을 시작합니다...')\n",
    "for epoch in range(epoch_num):\n",
    "    _, _loss = sess.run([train, loss], feed_dict={X: trainX, Y: trainY})\n",
    "    if ((epoch+1) % 100 == 0) or (epoch == epoch_num-1): # 100번째 or 마지막 epoch\n",
    "        # train data\n",
    "        train_predict = sess.run(hypothesis, feed_dict={X: trainX})\n",
    "        train_error = sess.run(rmse, feed_dict={targets: trainY, predictions: train_predict})\n",
    "        train_error_summary.append(train_error)\n",
    " \n",
    "        # validation\n",
    "        test_predict = sess.run(hypothesis, feed_dict={X: testX})\n",
    "        test_error = sess.run(rmse, feed_dict={targets: testY, predictions: test_predict})\n",
    "        test_error_summary.append(test_error)\n",
    "        \n",
    "        print(\"epoch: {}, train_error(A): {}, test_error(B): {}, B-A: {}\".format(epoch+1, train_error, test_error, test_error-train_error))\n",
    "        \n",
    "print('학습이 끝났습니다...')\n",
    "\n",
    "end_time = datetime.datetime.now() # 종료시간\n",
    "elapsed_time = end_time - start_time\n",
    "print('elapsed_time:',elapsed_time)\n",
    "print('elapsed_time per epoch:',elapsed_time/epoch_num)"
   ]
  },
  {
   "cell_type": "code",
   "execution_count": 13,
   "metadata": {},
   "outputs": [
    {
     "name": "stdout",
     "output_type": "stream",
     "text": [
      "input_data_column_cnt: 6,output_data_column_cnt: 1,seq_length: 7,rnn_cell_hidden_dim: 5,forget_bias: 1.0,num_stacked_layers: 1,keep_prob: 1.0,epoch_num: 1800,learning_rate: 0.01,train_error: 0.009212953,test_error: 0.007734119,min_test_error: 0.007733313\n"
     ]
    }
   ],
   "source": [
    "# hyperparameter\n",
    "print('input_data_column_cnt:', input_data_column_cnt, end='')\n",
    "print(',output_data_column_cnt:', output_data_column_cnt, end='')\n",
    " \n",
    "print(',seq_length:', seq_length, end='')\n",
    "print(',rnn_cell_hidden_dim:', rnn_cell_hidden_dim, end='')\n",
    "print(',forget_bias:', forget_bias, end='')\n",
    "print(',num_stacked_layers:', num_stacked_layers, end='')\n",
    "print(',keep_prob:', keep_prob, end='')\n",
    " \n",
    "print(',epoch_num:', epoch_num, end='')\n",
    "print(',learning_rate:', learning_rate, end='')\n",
    " \n",
    "print(',train_error:', train_error_summary[-1], end='')\n",
    "print(',test_error:', test_error_summary[-1], end='')\n",
    "print(',min_test_error:', np.min(test_error_summary))"
   ]
  },
  {
   "cell_type": "code",
   "execution_count": 14,
   "metadata": {},
   "outputs": [
    {
     "data": {
      "image/png": "[encoded data removed]",
      "text/plain": [
       "<Figure size 432x288 with 1 Axes>"
      ]
     },
     "metadata": {
      "needs_background": "light"
     },
     "output_type": "display_data"
    },
    {
     "data": {
      "image/png": "[encoded data removed]",
      "text/plain": [
       "<Figure size 432x288 with 1 Axes>"
      ]
     },
     "metadata": {
      "needs_background": "light"
     },
     "output_type": "display_data"
    }
   ],
   "source": [
    "plt.figure(1)\n",
    "plt.plot(train_error_summary, 'gold')\n",
    "plt.plot(test_error_summary, 'b')\n",
    "plt.xlabel('Epoch(x100)')\n",
    "plt.ylabel('Root Mean Square Error')\n",
    " \n",
    "plt.figure(2)\n",
    "plt.plot(testY, 'r')\n",
    "plt.plot(test_predict, 'b')\n",
    "plt.xlabel('Time Period')\n",
    "plt.ylabel('Stock Price')\n",
    "plt.show()"
   ]
  },
  {
   "cell_type": "code",
   "execution_count": 15,
   "metadata": {},
   "outputs": [
    {
     "name": "stdout",
     "output_type": "stream",
     "text": [
      "size of testdataX:  3862\n"
     ]
    }
   ],
   "source": [
    "testdataX=[]\n",
    "testdataY=[]\n",
    "\n",
    "for i in range(len(x)-final_test-seq_length,len(x)-seq_length):\n",
    "    _x=x[i:i+seq_length]\n",
    "    _y=y[i+seq_length]\n",
    "    if i is 0:\n",
    "        print(_x,\"->\",_y)\n",
    "    testdataX.append(_x)\n",
    "    testdataY.append(_y)\n",
    "    \n",
    "print(\"size of testdataX: \",len(testdataX))"
   ]
  },
  {
   "cell_type": "code",
   "execution_count": 16,
   "metadata": {},
   "outputs": [
    {
     "name": "stdout",
     "output_type": "stream",
     "text": [
      "결과값을 구하기 시작합니다...\n",
      "500번째 계산중...\n",
      "1000번째 계산중...\n",
      "1500번째 계산중...\n",
      "2000번째 계산중...\n",
      "2500번째 계산중...\n",
      "3000번째 계산중...\n",
      "3500번째 계산중...\n",
      "result size:  3862\n",
      "결과값을 모두 구했습니다...\n",
      "elapsed_time: 0:12:03.968877\n",
      "elapsed_time per epoch: 0:00:00.402205\n"
     ]
    }
   ],
   "source": [
    "start_time = datetime.datetime.now()\n",
    "print('결과값을 구하기 시작합니다...')\n",
    "\n",
    "sum=0.0\n",
    "result=[]\n",
    "for i in range(0,len(testdataX)):\n",
    "    if ((i+1) % 500 == 0) or (epoch == len(testdataX)-1):\n",
    "        print(\"{}번째 계산중...\".format(i+1))\n",
    "    lastX=np.array([testdataX[i]])\n",
    "    lastPredict=sess.run(hypothesis, feed_dict={X: lastX})\n",
    "    lastPredict=reverse_min_max_scaling(data,lastPredict)\n",
    "\n",
    "    result.append(lastPredict[0,0])\n",
    "\n",
    "print(\"result size: \",len(result))\n",
    "\n",
    "print('결과값을 모두 구했습니다...')\n",
    "end_time = datetime.datetime.now()\n",
    "elapsed_time = end_time - start_time\n",
    "print('elapsed_time:',elapsed_time)\n",
    "print('elapsed_time per epoch:',elapsed_time/epoch_num)"
   ]
  },
  {
   "cell_type": "code",
   "execution_count": 17,
   "metadata": {},
   "outputs": [],
   "source": [
    "wr=openpyxl.load_workbook('score.xlsx')\n",
    "wrr=wr.active\n",
    "\n",
    "for i in range(0,len(testdataX)):\n",
    "    wrr.cell(row=i+1,column=1).value=result[i]\n",
    "    \n",
    "wr.save('score.xlsx')\n",
    "wr.close()"
   ]
  }
 ],
 "metadata": {
  "kernelspec": {
   "display_name": "Python 3",
   "language": "python",
   "name": "python3"
  },
  "language_info": {
   "codemirror_mode": {
    "name": "ipython",
    "version": 3
   },
   "file_extension": ".py",
   "mimetype": "text/x-python",
   "name": "python",
   "nbconvert_exporter": "python",
   "pygments_lexer": "ipython3",
   "version": "3.7.6"
  }
 },
 "nbformat": 4,
 "nbformat_minor": 4
}
